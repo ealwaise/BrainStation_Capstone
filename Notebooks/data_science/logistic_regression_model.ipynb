{
 "cells": [
  {
   "cell_type": "code",
   "execution_count": 1,
   "id": "2c822f5f-54d4-4e2c-a619-a7589f5a5d8f",
   "metadata": {
    "tags": []
   },
   "outputs": [],
   "source": [
    "import pandas as pd\n",
    "import numpy as np\n",
    "import seaborn as sns\n",
    "import re\n",
    "import sys\n",
    "from bs4 import BeautifulSoup as bs"
   ]
  },
  {
   "cell_type": "code",
   "execution_count": 2,
   "id": "8bcd90a0-2b8f-4d93-bd9a-35b20873cbaa",
   "metadata": {},
   "outputs": [],
   "source": [
    "# Path to folder containg supplementary code.\n",
    "sys.path.insert(1, '../../src')\n",
    "\n",
    "import se_post_processing as sepp\n",
    "import tokenizers as tkn\n",
    "import config_reader as cr"
   ]
  },
  {
   "cell_type": "markdown",
   "id": "d00d173f-42f4-4e0d-91ed-24ba8e870f48",
   "metadata": {},
   "source": [
    "# Table of Contents\n",
    "---\n",
    "\n",
    "### 1. Introduction\n",
    "### 2. Data Processing\n",
    "### 3. Modeling\n",
    "### 4. Conclusion"
   ]
  },
  {
   "cell_type": "markdown",
   "id": "d904b19c-8618-424d-ac33-08223003fd47",
   "metadata": {},
   "source": [
    "# 1. Introduction\n",
    "---\n",
    "\n",
    "In this notebook, we create a baseline model for predicting whether or not a question on the Data Science Stack Exchange will be answered within 7 days. We first process the text and engineer features from the contents of the post, then we train and evaluate a logistic regression model."
   ]
  },
  {
   "cell_type": "markdown",
   "id": "705a607f-4e06-481b-8f62-3c7bc9348bd3",
   "metadata": {},
   "source": [
    "# 2. Data Processing\n",
    "---\n",
    "\n",
    "We begin by preparing the Stack Exchange post data for modeling. We need to process and tokenize the text in the bodies and titles of the questions and dummify the tag variables. We also need to engineer features from the various HTML tags and the math equations found in the questions."
   ]
  },
  {
   "cell_type": "code",
   "execution_count": 3,
   "id": "a6dd04f0-b804-4deb-b896-f07ab7fa4344",
   "metadata": {
    "scrolled": true,
    "tags": []
   },
   "outputs": [
    {
     "data": {
      "text/html": [
       "<div>\n",
       "<style scoped>\n",
       "    .dataframe tbody tr th:only-of-type {\n",
       "        vertical-align: middle;\n",
       "    }\n",
       "\n",
       "    .dataframe tbody tr th {\n",
       "        vertical-align: top;\n",
       "    }\n",
       "\n",
       "    .dataframe thead th {\n",
       "        text-align: right;\n",
       "    }\n",
       "</style>\n",
       "<table border=\"1\" class=\"dataframe\">\n",
       "  <thead>\n",
       "    <tr style=\"text-align: right;\">\n",
       "      <th></th>\n",
       "      <th>Id</th>\n",
       "      <th>PostTypeId</th>\n",
       "      <th>CreationDate</th>\n",
       "      <th>Score</th>\n",
       "      <th>ViewCount</th>\n",
       "      <th>Body</th>\n",
       "      <th>OwnerUserId</th>\n",
       "      <th>LastActivityDate</th>\n",
       "      <th>Title</th>\n",
       "      <th>Tags</th>\n",
       "      <th>...</th>\n",
       "      <th>ClosedDate</th>\n",
       "      <th>ContentLicense</th>\n",
       "      <th>AcceptedAnswerId</th>\n",
       "      <th>LastEditorUserId</th>\n",
       "      <th>LastEditDate</th>\n",
       "      <th>ParentId</th>\n",
       "      <th>OwnerDisplayName</th>\n",
       "      <th>CommunityOwnedDate</th>\n",
       "      <th>LastEditorDisplayName</th>\n",
       "      <th>FavoriteCount</th>\n",
       "    </tr>\n",
       "  </thead>\n",
       "  <tbody>\n",
       "    <tr>\n",
       "      <th>0</th>\n",
       "      <td>5</td>\n",
       "      <td>1</td>\n",
       "      <td>2014-05-13T23:58:30.457</td>\n",
       "      <td>9</td>\n",
       "      <td>959.0</td>\n",
       "      <td>&lt;p&gt;I've always been interested in machine lear...</td>\n",
       "      <td>5.0</td>\n",
       "      <td>2014-05-14T00:36:31.077</td>\n",
       "      <td>How can I do simple machine learning without h...</td>\n",
       "      <td>&lt;machine-learning&gt;</td>\n",
       "      <td>...</td>\n",
       "      <td>2014-05-14T14:40:25.950</td>\n",
       "      <td>CC BY-SA 3.0</td>\n",
       "      <td>NaN</td>\n",
       "      <td>NaN</td>\n",
       "      <td>None</td>\n",
       "      <td>NaN</td>\n",
       "      <td>None</td>\n",
       "      <td>None</td>\n",
       "      <td>None</td>\n",
       "      <td>NaN</td>\n",
       "    </tr>\n",
       "    <tr>\n",
       "      <th>1</th>\n",
       "      <td>7</td>\n",
       "      <td>1</td>\n",
       "      <td>2014-05-14T00:11:06.457</td>\n",
       "      <td>4</td>\n",
       "      <td>503.0</td>\n",
       "      <td>&lt;p&gt;As a researcher and instructor, I'm looking...</td>\n",
       "      <td>36.0</td>\n",
       "      <td>2014-05-16T13:45:00.237</td>\n",
       "      <td>What open-source books (or other materials) pr...</td>\n",
       "      <td>&lt;education&gt;&lt;open-source&gt;</td>\n",
       "      <td>...</td>\n",
       "      <td>2014-05-14T08:40:54.950</td>\n",
       "      <td>CC BY-SA 3.0</td>\n",
       "      <td>10.0</td>\n",
       "      <td>97.0</td>\n",
       "      <td>2014-05-16T13:45:00.237</td>\n",
       "      <td>NaN</td>\n",
       "      <td>None</td>\n",
       "      <td>None</td>\n",
       "      <td>None</td>\n",
       "      <td>NaN</td>\n",
       "    </tr>\n",
       "    <tr>\n",
       "      <th>2</th>\n",
       "      <td>9</td>\n",
       "      <td>2</td>\n",
       "      <td>2014-05-14T00:36:31.077</td>\n",
       "      <td>5</td>\n",
       "      <td>NaN</td>\n",
       "      <td>&lt;p&gt;Not sure if this fits the scope of this SE,...</td>\n",
       "      <td>51.0</td>\n",
       "      <td>2014-05-14T00:36:31.077</td>\n",
       "      <td>None</td>\n",
       "      <td>None</td>\n",
       "      <td>...</td>\n",
       "      <td>None</td>\n",
       "      <td>CC BY-SA 3.0</td>\n",
       "      <td>NaN</td>\n",
       "      <td>NaN</td>\n",
       "      <td>None</td>\n",
       "      <td>5.0</td>\n",
       "      <td>None</td>\n",
       "      <td>None</td>\n",
       "      <td>None</td>\n",
       "      <td>NaN</td>\n",
       "    </tr>\n",
       "    <tr>\n",
       "      <th>3</th>\n",
       "      <td>10</td>\n",
       "      <td>2</td>\n",
       "      <td>2014-05-14T00:53:43.273</td>\n",
       "      <td>13</td>\n",
       "      <td>NaN</td>\n",
       "      <td>&lt;p&gt;One book that's freely available is \"The El...</td>\n",
       "      <td>22.0</td>\n",
       "      <td>2014-05-14T00:53:43.273</td>\n",
       "      <td>None</td>\n",
       "      <td>None</td>\n",
       "      <td>...</td>\n",
       "      <td>None</td>\n",
       "      <td>CC BY-SA 3.0</td>\n",
       "      <td>NaN</td>\n",
       "      <td>NaN</td>\n",
       "      <td>None</td>\n",
       "      <td>7.0</td>\n",
       "      <td>None</td>\n",
       "      <td>None</td>\n",
       "      <td>None</td>\n",
       "      <td>NaN</td>\n",
       "    </tr>\n",
       "    <tr>\n",
       "      <th>4</th>\n",
       "      <td>14</td>\n",
       "      <td>1</td>\n",
       "      <td>2014-05-14T01:25:59.677</td>\n",
       "      <td>26</td>\n",
       "      <td>1925.0</td>\n",
       "      <td>&lt;p&gt;I am sure data science as will be discussed...</td>\n",
       "      <td>66.0</td>\n",
       "      <td>2020-08-16T13:01:33.543</td>\n",
       "      <td>Is Data Science the Same as Data Mining?</td>\n",
       "      <td>&lt;data-mining&gt;&lt;definitions&gt;</td>\n",
       "      <td>...</td>\n",
       "      <td>None</td>\n",
       "      <td>CC BY-SA 3.0</td>\n",
       "      <td>29.0</td>\n",
       "      <td>322.0</td>\n",
       "      <td>2014-06-17T16:17:20.473</td>\n",
       "      <td>NaN</td>\n",
       "      <td>None</td>\n",
       "      <td>None</td>\n",
       "      <td>None</td>\n",
       "      <td>NaN</td>\n",
       "    </tr>\n",
       "  </tbody>\n",
       "</table>\n",
       "<p>5 rows × 22 columns</p>\n",
       "</div>"
      ],
      "text/plain": [
       "   Id  PostTypeId             CreationDate  Score  ViewCount  \\\n",
       "0   5           1  2014-05-13T23:58:30.457      9      959.0   \n",
       "1   7           1  2014-05-14T00:11:06.457      4      503.0   \n",
       "2   9           2  2014-05-14T00:36:31.077      5        NaN   \n",
       "3  10           2  2014-05-14T00:53:43.273     13        NaN   \n",
       "4  14           1  2014-05-14T01:25:59.677     26     1925.0   \n",
       "\n",
       "                                                Body  OwnerUserId  \\\n",
       "0  <p>I've always been interested in machine lear...          5.0   \n",
       "1  <p>As a researcher and instructor, I'm looking...         36.0   \n",
       "2  <p>Not sure if this fits the scope of this SE,...         51.0   \n",
       "3  <p>One book that's freely available is \"The El...         22.0   \n",
       "4  <p>I am sure data science as will be discussed...         66.0   \n",
       "\n",
       "          LastActivityDate                                              Title  \\\n",
       "0  2014-05-14T00:36:31.077  How can I do simple machine learning without h...   \n",
       "1  2014-05-16T13:45:00.237  What open-source books (or other materials) pr...   \n",
       "2  2014-05-14T00:36:31.077                                               None   \n",
       "3  2014-05-14T00:53:43.273                                               None   \n",
       "4  2020-08-16T13:01:33.543           Is Data Science the Same as Data Mining?   \n",
       "\n",
       "                         Tags  ...               ClosedDate  ContentLicense  \\\n",
       "0          <machine-learning>  ...  2014-05-14T14:40:25.950    CC BY-SA 3.0   \n",
       "1    <education><open-source>  ...  2014-05-14T08:40:54.950    CC BY-SA 3.0   \n",
       "2                        None  ...                     None    CC BY-SA 3.0   \n",
       "3                        None  ...                     None    CC BY-SA 3.0   \n",
       "4  <data-mining><definitions>  ...                     None    CC BY-SA 3.0   \n",
       "\n",
       "  AcceptedAnswerId LastEditorUserId             LastEditDate  ParentId  \\\n",
       "0              NaN              NaN                     None       NaN   \n",
       "1             10.0             97.0  2014-05-16T13:45:00.237       NaN   \n",
       "2              NaN              NaN                     None       5.0   \n",
       "3              NaN              NaN                     None       7.0   \n",
       "4             29.0            322.0  2014-06-17T16:17:20.473       NaN   \n",
       "\n",
       "  OwnerDisplayName  CommunityOwnedDate LastEditorDisplayName FavoriteCount  \n",
       "0             None                None                  None           NaN  \n",
       "1             None                None                  None           NaN  \n",
       "2             None                None                  None           NaN  \n",
       "3             None                None                  None           NaN  \n",
       "4             None                None                  None           NaN  \n",
       "\n",
       "[5 rows x 22 columns]"
      ]
     },
     "execution_count": 3,
     "metadata": {},
     "output_type": "execute_result"
    }
   ],
   "source": [
    "# Read data and insepct first five rows.\n",
    "posts = pd.read_xml(cr.get_path('ds_posts'))\n",
    "posts.head()"
   ]
  },
  {
   "cell_type": "code",
   "execution_count": 4,
   "id": "131fdaa7-27bc-41c1-b6f5-3e37b36731a0",
   "metadata": {},
   "outputs": [],
   "source": [
    "# Convert `CreationDate` to date time.\n",
    "posts['CreationDate'] = pd.to_datetime(posts['CreationDate'])"
   ]
  },
  {
   "cell_type": "markdown",
   "id": "e74571a6-94ae-46ad-9178-dc962ddb60a4",
   "metadata": {},
   "source": [
    "---"
   ]
  },
  {
   "cell_type": "markdown",
   "id": "f4e0ff7e-ac88-4d04-ab0e-5363e1fd621a",
   "metadata": {},
   "source": [
    "We need to separate the question posts from other kinds of posts and create a column which stores our target variable: whether or not a question was answered within 7 days of posting."
   ]
  },
  {
   "cell_type": "code",
   "execution_count": 5,
   "id": "cfa6c1d3-c8f9-41b0-90f2-5e4f99694ad7",
   "metadata": {},
   "outputs": [],
   "source": [
    "# Isolate questions in a separate data frame.\n",
    "q_sel = posts['PostTypeId'] == 1\n",
    "questions = posts.loc[q_sel, :]"
   ]
  },
  {
   "cell_type": "code",
   "execution_count": 6,
   "id": "6a691d4f-0207-423f-ab4d-d26fd238fc93",
   "metadata": {},
   "outputs": [],
   "source": [
    "# Isolate answers in a separate data frame.\n",
    "a_sel = posts['PostTypeId'] == 2\n",
    "answers = posts.loc[a_sel, :]"
   ]
  },
  {
   "cell_type": "code",
   "execution_count": 7,
   "id": "3eb567da-83c7-41f3-a20a-303087e07a1d",
   "metadata": {},
   "outputs": [],
   "source": [
    "# Dates of first answers.\n",
    "answer_dates = answers.groupby('ParentId')['CreationDate'].min().rename('AnswerDate')\n",
    "\n",
    "# Merge first answer dates with questions.\n",
    "questions = questions.merge(\n",
    "    answer_dates,\n",
    "    how='left',\n",
    "    left_on='Id',\n",
    "    right_index=True\n",
    ")"
   ]
  },
  {
   "cell_type": "code",
   "execution_count": 8,
   "id": "e7cfd5ce-f709-4df7-8836-4be35a5104e6",
   "metadata": {},
   "outputs": [],
   "source": [
    "# Question answer time.\n",
    "answer_time = questions['AnswerDate'] - questions['CreationDate']\n",
    "\n",
    "# Target column: was the question answered within 7 days?\n",
    "questions['Answered7d'] = answer_time.dt.days <= 7"
   ]
  },
  {
   "cell_type": "markdown",
   "id": "1397c07b-7170-4856-bb3e-59ce948f7177",
   "metadata": {},
   "source": [
    "---"
   ]
  },
  {
   "cell_type": "markdown",
   "id": "32aef801-b46e-471a-9c21-6d9fef23b008",
   "metadata": {},
   "source": [
    "We wish to engineer several features for our predictive model. We first extract the hour of the day during which a question was posted, since questions posted during odd hours are more liable to be buried."
   ]
  },
  {
   "cell_type": "code",
   "execution_count": 9,
   "id": "f618ffaa-7259-49d7-b6f0-8391b4edfd72",
   "metadata": {},
   "outputs": [],
   "source": [
    "# Get hour of day from question creation time.\n",
    "questions['CreationTime'] = questions['CreationDate'].dt.hour"
   ]
  },
  {
   "cell_type": "markdown",
   "id": "bdefa628-ec36-4355-973e-0081fcad72bc",
   "metadata": {},
   "source": [
    "We engineer a number of features which measure the types of content found in a question. These include the number of lines of code, the number of displayed math equations, and the number of lines of text in the post. We also count the number of various HTML tags that appear in questions, including `blockquote`, `ul`, and `img`.\n",
    "\n",
    "The functions used to extract these features are in the imported Python module `se_post_processing.py`, which can be found in the `src` folder of the project directory."
   ]
  },
  {
   "cell_type": "code",
   "execution_count": 10,
   "id": "0cb126a9-d896-4616-bcd8-7f388262c282",
   "metadata": {},
   "outputs": [],
   "source": [
    "# Count number of lines of code.\n",
    "questions['CodeLines'] = questions['Body'] \\\n",
    "    .apply(sepp.count_code_lines)\n",
    "\n",
    "# Count number of lines of text (excluding math and code).\n",
    "questions['TextLines'] = questions['Body'] \\\n",
    "    .apply(sepp.count_text_lines)\n",
    "\n",
    "# Count number of lines of displayed math equations.\n",
    "questions['MathEquations'] = questions['Body'] \\\n",
    "    .apply(lambda x: len(sepp.find_math(x)))\n",
    "\n",
    "# Count number of quote HTML tags.\n",
    "questions['Quotes'] = questions['Body'] \\\n",
    "    .apply(lambda x: sepp.count_html_tags(x, 'blockquote'))\n",
    "\n",
    "# Count number of bullet list HTML tags.\n",
    "questions['BulletLists'] = questions['Body'] \\\n",
    "    .apply(lambda x: sepp.count_html_tags(x, 'ul'))\n",
    "\n",
    "# Count number of image HTML tags.\n",
    "questions['Images'] = questions['Body'] \\\n",
    "    .apply(lambda x: sepp.count_html_tags(x, 'img'))"
   ]
  },
  {
   "cell_type": "markdown",
   "id": "691475af-6d7c-48f1-a111-6f411b661062",
   "metadata": {},
   "source": [
    "---"
   ]
  },
  {
   "cell_type": "markdown",
   "id": "09c42cfc-31cd-466c-ba82-5e791438fe25",
   "metadata": {},
   "source": [
    "The next step is to separate our data into training and test sets. We extract a random sample of $20\\%$ of the data for testing."
   ]
  },
  {
   "cell_type": "code",
   "execution_count": 11,
   "id": "e69573dc-9fb0-4b9b-9844-7ed554cbc472",
   "metadata": {},
   "outputs": [],
   "source": [
    "from sklearn.model_selection import train_test_split"
   ]
  },
  {
   "cell_type": "code",
   "execution_count": 12,
   "id": "ad52e1fe-794a-474e-97d9-16b66da2281f",
   "metadata": {},
   "outputs": [],
   "source": [
    "# Columns to be included as features.\n",
    "feat_cols = [\n",
    "    'CreationTime',\n",
    "    'Title',\n",
    "    'Body',\n",
    "    'Tags',\n",
    "    'CodeLines',\n",
    "    'TextLines',\n",
    "    'MathEquations',\n",
    "    'Quotes',\n",
    "    'BulletLists',\n",
    "    'Images'\n",
    "]\n",
    "\n",
    "# Separate features and target variable.\n",
    "X = questions.loc[:, feat_cols]\n",
    "y = questions['Answered7d']\n",
    "\n",
    "# Split into training and test sets.\n",
    "X_train, X_test, y_train, y_test = \\\n",
    "    train_test_split(X, y, test_size=0.2)"
   ]
  },
  {
   "cell_type": "markdown",
   "id": "7c4af7a8-fdd5-45b8-bd8b-c74e2b843fba",
   "metadata": {},
   "source": [
    "---"
   ]
  },
  {
   "cell_type": "markdown",
   "id": "ac781643-d104-4201-8719-2407e0879fce",
   "metadata": {},
   "source": [
    "We separate the lists of tags in the training questions into binary features representing whether a question contains given tags. We perform this feature engineering after splitting into training and test sets to avoid the possibility of the training data containing zero columns."
   ]
  },
  {
   "cell_type": "code",
   "execution_count": 13,
   "id": "04580996-b3d3-4ae2-a3fa-5ee85dfeb3fe",
   "metadata": {},
   "outputs": [],
   "source": [
    "# Use regex to extract and explode the lists of tags and get the unique tags.\n",
    "q_tag_lists = questions['Tags'].str.findall('<.*?>')\n",
    "q_tags = q_tag_lists.explode().str.replace('<|>', '', regex=True)\n",
    "unique_q_tags = q_tags.unique()"
   ]
  },
  {
   "cell_type": "code",
   "execution_count": 14,
   "id": "83397f50-f366-4a59-aa8d-8b2a95850c66",
   "metadata": {},
   "outputs": [],
   "source": [
    "# Lists to store tag columns.\n",
    "train_tag_cols = []\n",
    "test_tag_cols = []\n",
    "\n",
    "# Loop through the tags and create corresponding features for training and test data.\n",
    "for tag in unique_q_tags:\n",
    "    # Name for the tag column.\n",
    "    col_name = f'Tag_{tag}'\n",
    "\n",
    "    # Get questions with the given tag.\n",
    "    tag_indices = q_tags[q_tags == tag].index\n",
    "\n",
    "    # Create column in the training set indicating whether a question has the given tag.\n",
    "    is_tagged_train = X_train.index.isin(tag_indices)\n",
    "    is_tagged_train = pd.Series(\n",
    "        data=is_tagged_train,\n",
    "        index=X_train.index,\n",
    "        dtype=int,\n",
    "        name=col_name\n",
    "    )\n",
    "\n",
    "    # Create column in the test set indicating whether a question has the given tag.\n",
    "    is_tagged_test = X_test.index.isin(tag_indices)\n",
    "    is_tagged_test = pd.Series(\n",
    "        data=is_tagged_test,\n",
    "        index=X_test.index,\n",
    "        dtype=int,\n",
    "        name=col_name\n",
    "    )\n",
    "\n",
    "    train_tag_cols.append(is_tagged_train)\n",
    "    test_tag_cols.append(is_tagged_test)\n",
    "\n",
    "\n",
    "# Concatenate the tagg columns into a data frame.\n",
    "tagged_df_train = pd.concat(train_tag_cols, axis=1)\n",
    "tagged_df_test = pd.concat(test_tag_cols, axis=1)\n",
    "\n",
    "# Concatenate the tag data frames with the training and test data frames.\n",
    "X_train = pd.concat([X_train, tagged_df_train], axis=1).drop('Tags', axis=1)\n",
    "X_test = pd.concat([X_test, tagged_df_test], axis=1).drop('Tags', axis=1)"
   ]
  },
  {
   "cell_type": "markdown",
   "id": "eaedbb18-0599-4c5f-b8bc-eea4b6d863c1",
   "metadata": {},
   "source": [
    "---"
   ]
  },
  {
   "cell_type": "markdown",
   "id": "68d9cd1e-89b0-46db-b760-14b274b1d6b7",
   "metadata": {},
   "source": [
    "Before modeling, we need to tokenize the titles and bodies of questions. We only include tokens consisting of alphabetic characters. We use lemmatization and exclude the standard English stopwords from ntlk. We vectorize the question titles and bodies as bags of words with tf-idf normalization. We use a maximum of 1,000 (10,000) features for the titles (bodies)."
   ]
  },
  {
   "cell_type": "code",
   "execution_count": 15,
   "id": "71257e96-e4dc-4a0a-bdb0-8e120bf40155",
   "metadata": {},
   "outputs": [],
   "source": [
    "from sklearn.feature_extraction.text import TfidfVectorizer\n",
    "from nltk.stem import WordNetLemmatizer\n",
    "from nltk.corpus import stopwords"
   ]
  },
  {
   "cell_type": "code",
   "execution_count": 16,
   "id": "91e24529-a87d-4921-a6d1-70a075c4efd8",
   "metadata": {},
   "outputs": [],
   "source": [
    "# Lemmatizer and list of stop words.\n",
    "lemmatizer = WordNetLemmatizer()\n",
    "stops = set(stopwords.words('english'))\n",
    "\n",
    "# Title vectorizer\n",
    "vectorizer_title = TfidfVectorizer(\n",
    "    tokenizer=lambda title: tkn.tokenize_title(title, lemmatizer, stops),\n",
    "    token_pattern=None,\n",
    "    max_df = 0.7,\n",
    "    min_df = 0.001,\n",
    "    max_features=1000\n",
    ")\n",
    "\n",
    "# Body vectorizer\n",
    "vectorizer_post = TfidfVectorizer(\n",
    "    tokenizer=lambda post: tkn.tokenize_post(post, lemmatizer, stops),\n",
    "    token_pattern=None,\n",
    "    max_df = 0.7,\n",
    "    min_df = 0.001,\n",
    "    max_features=10000\n",
    ")"
   ]
  },
  {
   "cell_type": "code",
   "execution_count": 17,
   "id": "329dc604-9f69-46f8-9c3d-9a9d0d6b10f7",
   "metadata": {},
   "outputs": [
    {
     "name": "stderr",
     "output_type": "stream",
     "text": [
      "C:\\Users\\ealwa\\OneDrive\\Documents\\BrainStation\\Projects\\Capstone\\BrainStation_Capstone\\Notebooks\\data_science\\../../src\\tokenizers.py:78: GuessedAtParserWarning: No parser was explicitly specified, so I'm using the best available HTML parser for this system (\"lxml\"). This usually isn't a problem, but if you run this code on another system, or in a different virtual environment, it may use a different parser and behave differently.\n",
      "\n",
      "The code that caused this warning is on line 78 of the file C:\\Users\\ealwa\\OneDrive\\Documents\\BrainStation\\Projects\\Capstone\\BrainStation_Capstone\\Notebooks\\data_science\\../../src\\tokenizers.py. To get rid of this warning, pass the additional argument 'features=\"lxml\"' to the BeautifulSoup constructor.\n",
      "\n",
      "  soup = bs(post)\n"
     ]
    }
   ],
   "source": [
    "# Create the bags of words.\n",
    "bag_of_words_title = vectorizer_title.fit(X_train['Title'])\n",
    "bag_of_words_post = vectorizer_post.fit(X_train['Body'])"
   ]
  },
  {
   "cell_type": "code",
   "execution_count": 18,
   "id": "4180fd1e-b37b-44b7-9ed5-f9ac05f113d8",
   "metadata": {},
   "outputs": [
    {
     "name": "stderr",
     "output_type": "stream",
     "text": [
      "C:\\Users\\ealwa\\OneDrive\\Documents\\BrainStation\\Projects\\Capstone\\BrainStation_Capstone\\Notebooks\\data_science\\../../src\\tokenizers.py:78: GuessedAtParserWarning: No parser was explicitly specified, so I'm using the best available HTML parser for this system (\"lxml\"). This usually isn't a problem, but if you run this code on another system, or in a different virtual environment, it may use a different parser and behave differently.\n",
      "\n",
      "The code that caused this warning is on line 78 of the file C:\\Users\\ealwa\\OneDrive\\Documents\\BrainStation\\Projects\\Capstone\\BrainStation_Capstone\\Notebooks\\data_science\\../../src\\tokenizers.py. To get rid of this warning, pass the additional argument 'features=\"lxml\"' to the BeautifulSoup constructor.\n",
      "\n",
      "  soup = bs(post)\n"
     ]
    }
   ],
   "source": [
    "# Transform training words into data frames.\n",
    "\n",
    "X_train_title_words = bag_of_words_title.transform(X_train['Title'])\n",
    "\n",
    "X_train_title_words = pd.DataFrame(\n",
    "    data=X_train_title_words.toarray(),\n",
    "    index=X_train.index,\n",
    "    columns=bag_of_words_title.get_feature_names_out()\n",
    ")\n",
    "\n",
    "X_train_post_words = bag_of_words_post.transform(X_train['Body'])\n",
    "\n",
    "X_train_post_words = pd.DataFrame(\n",
    "    data=X_train_post_words.toarray(),\n",
    "    index=X_train.index,\n",
    "    columns=bag_of_words_post.get_feature_names_out()\n",
    ")\n"
   ]
  },
  {
   "cell_type": "code",
   "execution_count": 19,
   "id": "4cd4fc0d-fa05-43a8-86f9-8fa2df45afa6",
   "metadata": {},
   "outputs": [
    {
     "name": "stderr",
     "output_type": "stream",
     "text": [
      "C:\\Users\\ealwa\\OneDrive\\Documents\\BrainStation\\Projects\\Capstone\\BrainStation_Capstone\\Notebooks\\data_science\\../../src\\tokenizers.py:78: GuessedAtParserWarning: No parser was explicitly specified, so I'm using the best available HTML parser for this system (\"lxml\"). This usually isn't a problem, but if you run this code on another system, or in a different virtual environment, it may use a different parser and behave differently.\n",
      "\n",
      "The code that caused this warning is on line 78 of the file C:\\Users\\ealwa\\OneDrive\\Documents\\BrainStation\\Projects\\Capstone\\BrainStation_Capstone\\Notebooks\\data_science\\../../src\\tokenizers.py. To get rid of this warning, pass the additional argument 'features=\"lxml\"' to the BeautifulSoup constructor.\n",
      "\n",
      "  soup = bs(post)\n"
     ]
    }
   ],
   "source": [
    "# Transform test words into data frames.\n",
    "\n",
    "X_test_title_words = bag_of_words_title.transform(X_test['Title'])\n",
    "\n",
    "X_test_title_words = pd.DataFrame(\n",
    "    data=X_test_title_words.toarray(),\n",
    "    index=X_test.index,\n",
    "    columns=bag_of_words_title.get_feature_names_out()\n",
    ")\n",
    "\n",
    "X_test_post_words = bag_of_words_post.transform(X_test['Body'])\n",
    "\n",
    "X_test_post_words = pd.DataFrame(\n",
    "    data=X_test_post_words.toarray(),\n",
    "    index=X_test.index,\n",
    "    columns=bag_of_words_post.get_feature_names_out()\n",
    ")"
   ]
  },
  {
   "cell_type": "code",
   "execution_count": 20,
   "id": "b55b3c58-4783-4dc7-9535-c83e588856ae",
   "metadata": {},
   "outputs": [],
   "source": [
    "# Merge vectorized words into training set.\n",
    "X_train = pd.concat(\n",
    "    [X_train, X_train_title_words, X_train_post_words],\n",
    "    axis=1\n",
    ").drop(['Title', 'Body'], axis=1)\n",
    "\n",
    "# Free memory.\n",
    "del X_train_title_words\n",
    "del X_train_post_words"
   ]
  },
  {
   "cell_type": "code",
   "execution_count": 21,
   "id": "518c7f70-e0b9-4cb3-9972-f991ef0df824",
   "metadata": {},
   "outputs": [],
   "source": [
    "# Merge vectorized words into test set.\n",
    "X_test = pd.concat(\n",
    "    [X_test, X_test_title_words, X_test_post_words],\n",
    "    axis=1\n",
    ").drop(['Title', 'Body'], axis=1)\n",
    "\n",
    "# Free memory.\n",
    "del X_test_title_words\n",
    "del X_test_post_words"
   ]
  },
  {
   "cell_type": "markdown",
   "id": "fcaece3e-7842-4a89-9fd4-db2dfa28ed93",
   "metadata": {},
   "source": [
    "# 3. Modeling\n",
    "---"
   ]
  },
  {
   "cell_type": "markdown",
   "id": "8d4ccc02-5946-4854-a211-3bf30fdcd5ab",
   "metadata": {},
   "source": [
    "With our data processing complete, we move on to modeling. We use a logistic regression model to predict whether or not a question is answered within 7 days. Our main reason for choosing logistic regression is computational efficiency (we have a large number of features) and interpretability. We would like to draw inferences from our model about how Stack Exchange users can structure their questions to maximize the odds of getting a timely answer."
   ]
  },
  {
   "cell_type": "code",
   "execution_count": 22,
   "id": "3bc8d1e3-1ace-44d9-b435-489c1ea94f0e",
   "metadata": {},
   "outputs": [],
   "source": [
    "from sklearn.linear_model import LogisticRegression\n",
    "from sklearn.metrics import classification_report"
   ]
  },
  {
   "cell_type": "code",
   "execution_count": 23,
   "id": "395b4c6f-573b-4394-87f0-481da03f200b",
   "metadata": {},
   "outputs": [
    {
     "data": {
      "text/html": [
       "<style>#sk-container-id-1 {color: black;background-color: white;}#sk-container-id-1 pre{padding: 0;}#sk-container-id-1 div.sk-toggleable {background-color: white;}#sk-container-id-1 label.sk-toggleable__label {cursor: pointer;display: block;width: 100%;margin-bottom: 0;padding: 0.3em;box-sizing: border-box;text-align: center;}#sk-container-id-1 label.sk-toggleable__label-arrow:before {content: \"▸\";float: left;margin-right: 0.25em;color: #696969;}#sk-container-id-1 label.sk-toggleable__label-arrow:hover:before {color: black;}#sk-container-id-1 div.sk-estimator:hover label.sk-toggleable__label-arrow:before {color: black;}#sk-container-id-1 div.sk-toggleable__content {max-height: 0;max-width: 0;overflow: hidden;text-align: left;background-color: #f0f8ff;}#sk-container-id-1 div.sk-toggleable__content pre {margin: 0.2em;color: black;border-radius: 0.25em;background-color: #f0f8ff;}#sk-container-id-1 input.sk-toggleable__control:checked~div.sk-toggleable__content {max-height: 200px;max-width: 100%;overflow: auto;}#sk-container-id-1 input.sk-toggleable__control:checked~label.sk-toggleable__label-arrow:before {content: \"▾\";}#sk-container-id-1 div.sk-estimator input.sk-toggleable__control:checked~label.sk-toggleable__label {background-color: #d4ebff;}#sk-container-id-1 div.sk-label input.sk-toggleable__control:checked~label.sk-toggleable__label {background-color: #d4ebff;}#sk-container-id-1 input.sk-hidden--visually {border: 0;clip: rect(1px 1px 1px 1px);clip: rect(1px, 1px, 1px, 1px);height: 1px;margin: -1px;overflow: hidden;padding: 0;position: absolute;width: 1px;}#sk-container-id-1 div.sk-estimator {font-family: monospace;background-color: #f0f8ff;border: 1px dotted black;border-radius: 0.25em;box-sizing: border-box;margin-bottom: 0.5em;}#sk-container-id-1 div.sk-estimator:hover {background-color: #d4ebff;}#sk-container-id-1 div.sk-parallel-item::after {content: \"\";width: 100%;border-bottom: 1px solid gray;flex-grow: 1;}#sk-container-id-1 div.sk-label:hover label.sk-toggleable__label {background-color: #d4ebff;}#sk-container-id-1 div.sk-serial::before {content: \"\";position: absolute;border-left: 1px solid gray;box-sizing: border-box;top: 0;bottom: 0;left: 50%;z-index: 0;}#sk-container-id-1 div.sk-serial {display: flex;flex-direction: column;align-items: center;background-color: white;padding-right: 0.2em;padding-left: 0.2em;position: relative;}#sk-container-id-1 div.sk-item {position: relative;z-index: 1;}#sk-container-id-1 div.sk-parallel {display: flex;align-items: stretch;justify-content: center;background-color: white;position: relative;}#sk-container-id-1 div.sk-item::before, #sk-container-id-1 div.sk-parallel-item::before {content: \"\";position: absolute;border-left: 1px solid gray;box-sizing: border-box;top: 0;bottom: 0;left: 50%;z-index: -1;}#sk-container-id-1 div.sk-parallel-item {display: flex;flex-direction: column;z-index: 1;position: relative;background-color: white;}#sk-container-id-1 div.sk-parallel-item:first-child::after {align-self: flex-end;width: 50%;}#sk-container-id-1 div.sk-parallel-item:last-child::after {align-self: flex-start;width: 50%;}#sk-container-id-1 div.sk-parallel-item:only-child::after {width: 0;}#sk-container-id-1 div.sk-dashed-wrapped {border: 1px dashed gray;margin: 0 0.4em 0.5em 0.4em;box-sizing: border-box;padding-bottom: 0.4em;background-color: white;}#sk-container-id-1 div.sk-label label {font-family: monospace;font-weight: bold;display: inline-block;line-height: 1.2em;}#sk-container-id-1 div.sk-label-container {text-align: center;}#sk-container-id-1 div.sk-container {/* jupyter's `normalize.less` sets `[hidden] { display: none; }` but bootstrap.min.css set `[hidden] { display: none !important; }` so we also need the `!important` here to be able to override the default hidden behavior on the sphinx rendered scikit-learn.org. See: https://github.com/scikit-learn/scikit-learn/issues/21755 */display: inline-block !important;position: relative;}#sk-container-id-1 div.sk-text-repr-fallback {display: none;}</style><div id=\"sk-container-id-1\" class=\"sk-top-container\"><div class=\"sk-text-repr-fallback\"><pre>LogisticRegression(max_iter=10000)</pre><b>In a Jupyter environment, please rerun this cell to show the HTML representation or trust the notebook. <br />On GitHub, the HTML representation is unable to render, please try loading this page with nbviewer.org.</b></div><div class=\"sk-container\" hidden><div class=\"sk-item\"><div class=\"sk-estimator sk-toggleable\"><input class=\"sk-toggleable__control sk-hidden--visually\" id=\"sk-estimator-id-1\" type=\"checkbox\" checked><label for=\"sk-estimator-id-1\" class=\"sk-toggleable__label sk-toggleable__label-arrow\">LogisticRegression</label><div class=\"sk-toggleable__content\"><pre>LogisticRegression(max_iter=10000)</pre></div></div></div></div></div>"
      ],
      "text/plain": [
       "LogisticRegression(max_iter=10000)"
      ]
     },
     "execution_count": 23,
     "metadata": {},
     "output_type": "execute_result"
    }
   ],
   "source": [
    "# Fit logistic regression model.\n",
    "lr = LogisticRegression(max_iter=10000)\n",
    "lr.fit(X_train, y_train)"
   ]
  },
  {
   "cell_type": "markdown",
   "id": "600d9dee-e408-4212-be5f-7ed89a6295d7",
   "metadata": {},
   "source": [
    "---"
   ]
  },
  {
   "cell_type": "markdown",
   "id": "4965dbf9-c945-43b0-85e2-fe6dc423745c",
   "metadata": {},
   "source": [
    "We investigate the 20 features which have the largest positive (negative) coefficient in our logistic regression model."
   ]
  },
  {
   "cell_type": "code",
   "execution_count": 24,
   "id": "4efe8d4d-5eba-4b98-b648-320f3619e742",
   "metadata": {},
   "outputs": [],
   "source": [
    "# Get coefficients with feature names.\n",
    "coefs = pd.Series(\n",
    "    data=lr.coef_[0],\n",
    "    index=X_train.columns\n",
    ").sort_values(ascending=False)"
   ]
  },
  {
   "cell_type": "code",
   "execution_count": 25,
   "id": "d86d223e-7d3c-4409-94ac-68212ce4f2ad",
   "metadata": {},
   "outputs": [
    {
     "data": {
      "text/plain": [
       "Text(0, 0.5, 'Coefficient')"
      ]
     },
     "execution_count": 25,
     "metadata": {},
     "output_type": "execute_result"
    },
    {
     "data": {
      "image/png": "[encoded data removed]",
      "text/plain": [
       "<Figure size 640x480 with 1 Axes>"
      ]
     },
     "metadata": {},
     "output_type": "display_data"
    }
   ],
   "source": [
    "# Get top 20 positive coefficients.\n",
    "pos_coefs = coefs[coefs > 0].sort_values(ascending=False)[:20]\n",
    "\n",
    "# Plot top 20 positive coefficients.\n",
    "ax = sns.barplot(\n",
    "    x=pos_coefs.index,\n",
    "    y=pos_coefs.values,\n",
    "    color='blue'\n",
    ")\n",
    "ax.set_title('Top 20 Features Predictive of a Question Getting Answered')\n",
    "ax.set_xlabel('Feature Name')\n",
    "ax.set_xticks(range(20), labels=pos_coefs.index, rotation=90)\n",
    "ax.set_ylabel('Coefficient')"
   ]
  },
  {
   "cell_type": "markdown",
   "id": "beaa057b-9207-4c3e-a5cb-a19455e3d1bf",
   "metadata": {},
   "source": [
    "We see the top 20 features with positive coefficients are all tokens the title of questions. One noteable feature is `title_dataframes`. Questions about data frames are likely to be relatively easy and thus be readily answered. Other features, such as `title_another` and `post_edit` seem highly suspect and indicative of flaws in our tokenizers."
   ]
  },
  {
   "cell_type": "code",
   "execution_count": 26,
   "id": "d2ec8b5f-65fb-4cd6-ad37-488d16c622d7",
   "metadata": {},
   "outputs": [
    {
     "data": {
      "text/plain": [
       "Text(0, 0.5, 'Coefficient')"
      ]
     },
     "execution_count": 26,
     "metadata": {},
     "output_type": "execute_result"
    },
    {
     "data": {
      "image/png": "[encoded data removed]",
      "text/plain": [
       "<Figure size 640x480 with 1 Axes>"
      ]
     },
     "metadata": {},
     "output_type": "display_data"
    }
   ],
   "source": [
    "# Get top 20 negative coefficients.\n",
    "neg_coefs = coefs[coefs < 0].sort_values(ascending=False)[:20]\n",
    "\n",
    "# Plot top 20 negative coefficients.\n",
    "ax = sns.barplot(\n",
    "    x=neg_coefs.index,\n",
    "    y=neg_coefs.values,\n",
    "    color='blue'\n",
    ")\n",
    "ax.set_title('Top 20 Features Predictive of a Question Going Unanswered')\n",
    "ax.set_xlabel('Feature Name')\n",
    "ax.set_xticks(range(20), labels=neg_coefs.index, rotation=90)\n",
    "ax.set_ylabel('Coefficient')"
   ]
  },
  {
   "cell_type": "markdown",
   "id": "1f66853f-0abe-4b51-8ab2-95c8e08ef639",
   "metadata": {},
   "source": [
    "Among the top 20 features with negative coefficients, notable are several tag features, `CodeLines`, and `CreationTime`. The tag \"data\" seems too broad to be useful. The presence of the `CreationTime` feature suggests that questions posted later in the day are less likely to be answered. As for the presence of the `CodeLines` feature, it is likely that that too many lines of code makes a question too tedious to read."
   ]
  },
  {
   "cell_type": "code",
   "execution_count": 27,
   "id": "eecb4371-caaf-4511-866a-672e7542663a",
   "metadata": {},
   "outputs": [
    {
     "data": {
      "text/plain": [
       "Answered7d\n",
       "True     0.66\n",
       "False    0.34\n",
       "Name: proportion, dtype: float64"
      ]
     },
     "execution_count": 27,
     "metadata": {},
     "output_type": "execute_result"
    }
   ],
   "source": [
    "# Training set class balance\n",
    "y_train.value_counts(normalize=True).round(2)"
   ]
  },
  {
   "cell_type": "code",
   "execution_count": 28,
   "id": "8a5cbe86-2dfb-4892-984e-c1726e6b5da8",
   "metadata": {},
   "outputs": [
    {
     "data": {
      "text/plain": [
       "Answered7d\n",
       "True     0.66\n",
       "False    0.34\n",
       "Name: proportion, dtype: float64"
      ]
     },
     "execution_count": 28,
     "metadata": {},
     "output_type": "execute_result"
    }
   ],
   "source": [
    "# Test set class balance\n",
    "y_test.value_counts(normalize=True).round(2)"
   ]
  },
  {
   "cell_type": "code",
   "execution_count": 29,
   "id": "c32999dc-9beb-47ed-a95c-8fc00b16a528",
   "metadata": {},
   "outputs": [
    {
     "name": "stdout",
     "output_type": "stream",
     "text": [
      "Train:\n",
      "              precision    recall  f1-score   support\n",
      "\n",
      "       False       0.71      0.39      0.51     10096\n",
      "        True       0.74      0.92      0.82     19337\n",
      "\n",
      "    accuracy                           0.74     29433\n",
      "   macro avg       0.73      0.66      0.66     29433\n",
      "weighted avg       0.73      0.74      0.71     29433\n",
      "\n",
      "\n",
      "Test:\n",
      "              precision    recall  f1-score   support\n",
      "\n",
      "       False       0.53      0.27      0.36      2528\n",
      "        True       0.70      0.87      0.78      4831\n",
      "\n",
      "    accuracy                           0.67      7359\n",
      "   macro avg       0.61      0.57      0.57      7359\n",
      "weighted avg       0.64      0.67      0.63      7359\n",
      "\n"
     ]
    }
   ],
   "source": [
    "# Model predictions.\n",
    "train_predict = lr.predict_proba(X_train)[:, 1] >= 0.5\n",
    "test_predict = lr.predict_proba(X_test)[:, 1] >= 0.5\n",
    "\n",
    "# Test classification report.\n",
    "train_cr = classification_report(y_train, train_predict)\n",
    "\n",
    "# Test classification report.\n",
    "test_cr = classification_report(y_test, test_predict)\n",
    "\n",
    "# Print classification reports.\n",
    "print('Train:')\n",
    "print(train_cr)\n",
    "print()\n",
    "print('Test:')\n",
    "print(test_cr)"
   ]
  },
  {
   "cell_type": "markdown",
   "id": "fe0aef19-1347-4bad-9351-c8f5b2034e0a",
   "metadata": {},
   "source": [
    "The model performed reasonably well in terms of F1-score on the `1` class (question answered within 7 days), and accuracy on the training data was greater than the majority class share. However, recall on the `0` class was poor and precision on the `0` class was poor in the test set. Accuracy on the test set was equal to the majority class share."
   ]
  },
  {
   "cell_type": "markdown",
   "id": "dbac8bcd-cb4e-4c42-8ec2-e9485191187c",
   "metadata": {},
   "source": [
    "# 4. Conclusion\n",
    "---\n",
    "\n",
    "Although our baseline can reasonably predict the positive outcome (a question is answered within 7 days), it is much less effective at predicting the negative outcome, especially on the test set. The accuracy drop between the training and test sets indicates some overfitting, which could be due to the large number of features. In the future, we will attempt dimensionality reduction, resampling, and using other types of models. Most significantly, we wish to improve our tokenization functions. A large amount of noise is being captured by our tokenizers, and we would like to include technical tokens, such as lines of code, which contain non-alphabetic characters."
   ]
  }
 ],
 "metadata": {
  "kernelspec": {
   "display_name": "Python 3 (ipykernel)",
   "language": "python",
   "name": "python3"
  },
  "language_info": {
   "codemirror_mode": {
    "name": "ipython",
    "version": 3
   },
   "file_extension": ".py",
   "mimetype": "text/x-python",
   "name": "python",
   "nbconvert_exporter": "python",
   "pygments_lexer": "ipython3",
   "version": "3.11.5"
  }
 },
 "nbformat": 4,
 "nbformat_minor": 5
}
